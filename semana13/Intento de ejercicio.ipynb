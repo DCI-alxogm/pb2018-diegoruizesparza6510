{
 "cells": [
  {
   "cell_type": "code",
   "execution_count": 17,
   "metadata": {},
   "outputs": [],
   "source": [
    "import matplotlib.pyplot as plt \n",
    "import numpy as np\n",
    "%matplotlib inline "
   ]
  },
  {
   "cell_type": "code",
   "execution_count": 33,
   "metadata": {},
   "outputs": [
    {
     "data": {
      "image/png": "[encoded data removed]",
      "text/plain": [
       "<Figure size 432x288 with 1 Axes>"
      ]
     },
     "metadata": {},
     "output_type": "display_data"
    }
   ],
   "source": [
    "x=np.random.rand(10)\n",
    "y=np.random.rand(10) \n",
    "z=np.array([x,y]).T\n",
    "plt.scatter(x,y,color='orangered')\n",
    "for i in range(0,360,10):\n",
    "    y=(0.1*np.sin(i))\n",
    "    x=(0.1*np.cos(i))\n",
    "    plt.scatter(x,y,color='blue')"
   ]
  },
  {
   "cell_type": "code",
   "execution_count": 16,
   "metadata": {},
   "outputs": [
    {
     "data": {
      "text/plain": [
       "array([[0.66894011, 0.79922693],\n",
       "       [0.37466388, 0.10609834],\n",
       "       [0.40993591, 0.48758609],\n",
       "       [0.77226801, 0.75931704],\n",
       "       [0.93702931, 0.77163434],\n",
       "       [0.62499626, 0.57090831],\n",
       "       [0.22343562, 0.80783266],\n",
       "       [0.16385457, 0.53799655],\n",
       "       [0.77497148, 0.31854204],\n",
       "       [0.361709  , 0.62369343]])"
      ]
     },
     "execution_count": 16,
     "metadata": {},
     "output_type": "execute_result"
    }
   ],
   "source": [
    "z\n"
   ]
  },
  {
   "cell_type": "code",
   "execution_count": null,
   "metadata": {},
   "outputs": [],
   "source": []
  }
 ],
 "metadata": {
  "kernelspec": {
   "display_name": "Python 2",
   "language": "python",
   "name": "python2"
  },
  "language_info": {
   "codemirror_mode": {
    "name": "ipython",
    "version": 3
   },
   "file_extension": ".py",
   "mimetype": "text/x-python",
   "name": "python",
   "nbconvert_exporter": "python",
   "pygments_lexer": "ipython3",
   "version": "3.6.6"
  }
 },
 "nbformat": 4,
 "nbformat_minor": 2
}

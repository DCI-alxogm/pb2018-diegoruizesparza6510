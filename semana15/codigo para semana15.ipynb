{
 "cells": [
  {
   "cell_type": "code",
   "execution_count": 69,
   "metadata": {},
   "outputs": [],
   "source": [
    "import numpy as np\n",
    "import matplotlib.pyplot as plt\n",
    "import scipy.constants as ct\n",
    "%matplotlib inline"
   ]
  },
  {
   "cell_type": "code",
   "execution_count": 237,
   "metadata": {},
   "outputs": [],
   "source": [
    "c=ct.c\n",
    "h=ct.Planck\n",
    "k=ct.Boltzmann\n",
    "v=5\n",
    "T=1\n",
    "x=np.arange(0,42,1)\n",
    "x[0]=22"
   ]
  },
  {
   "cell_type": "code",
   "execution_count": 238,
   "metadata": {},
   "outputs": [
    {
     "name": "stdout",
     "output_type": "stream",
     "text": [
      "[22  1  2  3  4  5  6  7  8  9 10 11 12 13 14 15 16 17 18 19 20 21 22 23\n",
      " 24 25 26 27 28 29 30 31 32 33 34 35 36 37 38 39 40 41]\n"
     ]
    }
   ],
   "source": [
    "print(x)"
   ]
  },
  {
   "cell_type": "code",
   "execution_count": 239,
   "metadata": {},
   "outputs": [
    {
     "name": "stdout",
     "output_type": "stream",
     "text": [
      "299792458.0 6.62607004e-34 1.38064852e-23\n"
     ]
    }
   ],
   "source": [
    "print (c,h,k)"
   ]
  },
  {
   "cell_type": "code",
   "execution_count": 240,
   "metadata": {},
   "outputs": [],
   "source": [
    "data=np.loadtxt('IRCF.txt')"
   ]
  },
  {
   "cell_type": "code",
   "execution_count": 249,
   "metadata": {},
   "outputs": [],
   "source": [
    "frecu=data[:,0:1]\n",
    "inten=data[:,1:2]\n",
    "error=data[:,3:4]"
   ]
  },
  {
   "cell_type": "code",
   "execution_count": 250,
   "metadata": {},
   "outputs": [],
   "source": [
    "for i in range (42):\n",
    "    error[i]=error[i]*(1e3)\n",
    "    frecu[i]=frecu[i]*c*100"
   ]
  },
  {
   "cell_type": "code",
   "execution_count": 251,
   "metadata": {},
   "outputs": [
    {
     "name": "stdout",
     "output_type": "stream",
     "text": [
      "[[2.04017426e+21]\n",
      " [2.44461409e+21]\n",
      " [2.85804147e+21]\n",
      " [3.26248130e+21]\n",
      " [3.66692113e+21]\n",
      " [4.08034851e+21]\n",
      " [4.48478834e+21]\n",
      " [4.89821572e+21]\n",
      " [5.30265555e+21]\n",
      " [5.70709538e+21]\n",
      " [6.12052277e+21]\n",
      " [6.52496260e+21]\n",
      " [6.92940243e+21]\n",
      " [7.34282981e+21]\n",
      " [7.74726964e+21]\n",
      " [8.16069702e+21]\n",
      " [8.56513685e+21]\n",
      " [8.96957668e+21]\n",
      " [9.38300407e+21]\n",
      " [9.78744390e+21]\n",
      " [1.01918837e+22]\n",
      " [1.06053111e+22]\n",
      " [1.10097509e+22]\n",
      " [1.14231783e+22]\n",
      " [1.18276182e+22]\n",
      " [1.22320580e+22]\n",
      " [1.26454854e+22]\n",
      " [1.30499252e+22]\n",
      " [1.34543650e+22]\n",
      " [1.38677924e+22]\n",
      " [1.42722322e+22]\n",
      " [1.46856596e+22]\n",
      " [1.50900995e+22]\n",
      " [1.54945393e+22]\n",
      " [1.59079667e+22]\n",
      " [1.63124065e+22]\n",
      " [1.67258339e+22]\n",
      " [1.71302737e+22]\n",
      " [1.75347135e+22]\n",
      " [1.79481409e+22]\n",
      " [1.83525807e+22]\n",
      " [1.87570206e+22]\n",
      " [2.13300000e+01]] [[200.723]\n",
      " [249.508]\n",
      " [293.024]\n",
      " [327.77 ]\n",
      " [354.081]\n",
      " [372.079]\n",
      " [381.493]\n",
      " [383.478]\n",
      " [378.901]\n",
      " [368.833]\n",
      " [354.063]\n",
      " [336.278]\n",
      " [316.076]\n",
      " [293.924]\n",
      " [271.432]\n",
      " [248.239]\n",
      " [225.94 ]\n",
      " [204.327]\n",
      " [183.262]\n",
      " [163.83 ]\n",
      " [145.75 ]\n",
      " [128.835]\n",
      " [113.568]\n",
      " [ 99.451]\n",
      " [ 87.036]\n",
      " [ 75.876]\n",
      " [ 65.766]\n",
      " [ 57.008]\n",
      " [ 49.223]\n",
      " [ 42.267]\n",
      " [ 36.352]\n",
      " [ 31.062]\n",
      " [ 26.58 ]\n",
      " [ 22.644]\n",
      " [ 19.255]\n",
      " [ 16.391]\n",
      " [ 13.811]\n",
      " [ 11.716]\n",
      " [  9.921]\n",
      " [  8.364]\n",
      " [  7.087]\n",
      " [  5.801]\n",
      " [  4.523]] [[1.40e+07]\n",
      " [1.90e+07]\n",
      " [2.50e+07]\n",
      " [2.30e+07]\n",
      " [2.20e+07]\n",
      " [2.10e+07]\n",
      " [1.80e+07]\n",
      " [1.80e+07]\n",
      " [1.60e+07]\n",
      " [1.40e+07]\n",
      " [1.30e+07]\n",
      " [1.20e+07]\n",
      " [1.10e+07]\n",
      " [1.00e+07]\n",
      " [1.10e+07]\n",
      " [1.20e+07]\n",
      " [1.40e+07]\n",
      " [1.60e+07]\n",
      " [1.80e+07]\n",
      " [2.20e+07]\n",
      " [2.20e+07]\n",
      " [2.30e+07]\n",
      " [2.30e+07]\n",
      " [2.30e+07]\n",
      " [2.20e+07]\n",
      " [2.10e+07]\n",
      " [2.00e+07]\n",
      " [1.90e+07]\n",
      " [1.90e+07]\n",
      " [1.90e+07]\n",
      " [2.10e+07]\n",
      " [2.30e+07]\n",
      " [2.60e+07]\n",
      " [2.80e+07]\n",
      " [3.00e+07]\n",
      " [3.20e+07]\n",
      " [3.30e+07]\n",
      " [3.50e+07]\n",
      " [4.10e+07]\n",
      " [5.50e+07]\n",
      " [8.80e+07]\n",
      " [1.55e+08]\n",
      " [2.82e+02]]\n"
     ]
    }
   ],
   "source": [
    "print (frecu,inten,error)"
   ]
  },
  {
   "cell_type": "code",
   "execution_count": 252,
   "metadata": {},
   "outputs": [
    {
     "data": {
      "text/plain": [
       "<matplotlib.collections.PathCollection at 0x7fa0c8385390>"
      ]
     },
     "execution_count": 252,
     "metadata": {},
     "output_type": "execute_result"
    },
    {
     "data": {
      "image/png": "[encoded data removed]",
      "text/plain": [
       "<Figure size 432x288 with 1 Axes>"
      ]
     },
     "metadata": {},
     "output_type": "display_data"
    }
   ],
   "source": [
    "plt.scatter(frecu,inten)"
   ]
  },
  {
   "cell_type": "code",
   "execution_count": 253,
   "metadata": {},
   "outputs": [
    {
     "data": {
      "text/plain": [
       "<ErrorbarContainer object of 3 artists>"
      ]
     },
     "execution_count": 253,
     "metadata": {},
     "output_type": "execute_result"
    },
    {
     "data": {
      "image/png": "[encoded data removed]",
      "text/plain": [
       "<Figure size 432x288 with 1 Axes>"
      ]
     },
     "metadata": {},
     "output_type": "display_data"
    }
   ],
   "source": [
    "plt.errorbar(frecu,inten,error)"
   ]
  },
  {
   "cell_type": "code",
   "execution_count": 246,
   "metadata": {},
   "outputs": [],
   "source": [
    "for i in range (42):\n",
    "    x[i]=((h*(pow(v,3)))/(pow(c,2)))*(1/((np.exp((h*v)/(k*T)))-1))\n"
   ]
  },
  {
   "cell_type": "code",
   "execution_count": 247,
   "metadata": {},
   "outputs": [
    {
     "data": {
      "text/plain": [
       "array([0, 0, 0, 0, 0, 0, 0, 0, 0, 0, 0, 0, 0, 0, 0, 0, 0, 0, 0, 0, 0, 0,\n",
       "       0, 0, 0, 0, 0, 0, 0, 0, 0, 0, 0, 0, 0, 0, 0, 0, 0, 0, 0, 0])"
      ]
     },
     "execution_count": 247,
     "metadata": {},
     "output_type": "execute_result"
    }
   ],
   "source": [
    "x"
   ]
  },
  {
   "cell_type": "code",
   "execution_count": 248,
   "metadata": {},
   "outputs": [
    {
     "data": {
      "text/plain": [
       "numpy.ndarray"
      ]
     },
     "execution_count": 248,
     "metadata": {},
     "output_type": "execute_result"
    }
   ],
   "source": [
    "type(z)"
   ]
  },
  {
   "cell_type": "code",
   "execution_count": null,
   "metadata": {},
   "outputs": [],
   "source": []
  },
  {
   "cell_type": "code",
   "execution_count": null,
   "metadata": {},
   "outputs": [],
   "source": []
  }
 ],
 "metadata": {
  "kernelspec": {
   "display_name": "Python 2",
   "language": "python",
   "name": "python2"
  },
  "language_info": {
   "codemirror_mode": {
    "name": "ipython",
    "version": 3
   },
   "file_extension": ".py",
   "mimetype": "text/x-python",
   "name": "python",
   "nbconvert_exporter": "python",
   "pygments_lexer": "ipython3",
   "version": "3.6.6"
  }
 },
 "nbformat": 4,
 "nbformat_minor": 2
}
